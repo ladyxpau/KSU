{
  "nbformat": 4,
  "nbformat_minor": 0,
  "metadata": {
    "colab": {
      "name": "IIE.ipynb",
      "provenance": [],
      "collapsed_sections": [],
      "authorship_tag": "ABX9TyOJveAJAHeATs85fKY+DlM7",
      "include_colab_link": true
    },
    "kernelspec": {
      "name": "python3",
      "display_name": "Python 3"
    },
    "language_info": {
      "name": "python"
    }
  },
  "cells": [
    {
      "cell_type": "markdown",
      "metadata": {
        "id": "view-in-github",
        "colab_type": "text"
      },
      "source": [
        "<a href=\"https://colab.research.google.com/github/ladyxpau/KSU/blob/main/IIE.ipynb\" target=\"_parent\"><img src=\"https://colab.research.google.com/assets/colab-badge.svg\" alt=\"Open In Colab\"/></a>"
      ]
    },
    {
      "cell_type": "markdown",
      "metadata": {
        "id": "9Wd2EX-prGkU"
      },
      "source": [
        "#Python Data Types\n",
        "\n",
        "**Date**: 20211012\n",
        "\n",
        "**Name**: Lady Paula Lising"
      ]
    },
    {
      "cell_type": "markdown",
      "metadata": {
        "id": "-jwCrZsnr5hq"
      },
      "source": [
        "## I. Numerics Data Type"
      ]
    },
    {
      "cell_type": "markdown",
      "metadata": {
        "id": "BzfsXi-7sBC_"
      },
      "source": [
        "**Arithmetic Operators**"
      ]
    },
    {
      "cell_type": "code",
      "metadata": {
        "colab": {
          "base_uri": "https://localhost:8080/"
        },
        "id": "eKg80AXxpvuU",
        "outputId": "24bf3f2e-a311-4fdd-e1f5-9120186c0064"
      },
      "source": [
        "a = 31 / 5\n",
        "a"
      ],
      "execution_count": 11,
      "outputs": [
        {
          "output_type": "execute_result",
          "data": {
            "text/plain": [
              "6.2"
            ]
          },
          "metadata": {},
          "execution_count": 11
        }
      ]
    },
    {
      "cell_type": "code",
      "metadata": {
        "colab": {
          "base_uri": "https://localhost:8080/"
        },
        "id": "HH3hQFsvtfgv",
        "outputId": "cf814ca1-165e-467b-d68c-2fbcb487129f"
      },
      "source": [
        "b = 31 // 5\n",
        "b"
      ],
      "execution_count": 10,
      "outputs": [
        {
          "output_type": "execute_result",
          "data": {
            "text/plain": [
              "6"
            ]
          },
          "metadata": {},
          "execution_count": 10
        }
      ]
    },
    {
      "cell_type": "code",
      "metadata": {
        "colab": {
          "base_uri": "https://localhost:8080/"
        },
        "id": "bB6ZCoQit3ZZ",
        "outputId": "58bbb4f0-7986-4205-8548-63840191cd53"
      },
      "source": [
        "c = 31 % 5\n",
        "c"
      ],
      "execution_count": 12,
      "outputs": [
        {
          "output_type": "execute_result",
          "data": {
            "text/plain": [
              "1"
            ]
          },
          "metadata": {},
          "execution_count": 12
        }
      ]
    },
    {
      "cell_type": "markdown",
      "metadata": {
        "id": "v0VbXmXjuRpT"
      },
      "source": [
        "**Logical Operators**"
      ]
    },
    {
      "cell_type": "code",
      "metadata": {
        "colab": {
          "base_uri": "https://localhost:8080/"
        },
        "id": "F2LnjTntuVtp",
        "outputId": "6984bd91-73fc-4875-fa07-90d2e27605f7"
      },
      "source": [
        "x = 4\n",
        "print (x > 3 and x < 5)"
      ],
      "execution_count": 13,
      "outputs": [
        {
          "output_type": "stream",
          "name": "stdout",
          "text": [
            "True\n"
          ]
        }
      ]
    },
    {
      "cell_type": "code",
      "metadata": {
        "colab": {
          "base_uri": "https://localhost:8080/"
        },
        "id": "Svn2MNSIunbt",
        "outputId": "64992c3b-cff4-4ce6-8063-312e8a608172"
      },
      "source": [
        "x = 21\n",
        "print (x < 100/2 and x > 20)"
      ],
      "execution_count": 15,
      "outputs": [
        {
          "output_type": "stream",
          "name": "stdout",
          "text": [
            "True\n"
          ]
        }
      ]
    },
    {
      "cell_type": "code",
      "metadata": {
        "colab": {
          "base_uri": "https://localhost:8080/"
        },
        "id": "mpt4eb2tux0t",
        "outputId": "56f7e031-5f23-4633-d1d9-6f1f7704752d"
      },
      "source": [
        "x = 10*8\n",
        "print (x == 82 and x < 10)"
      ],
      "execution_count": 19,
      "outputs": [
        {
          "output_type": "stream",
          "name": "stdout",
          "text": [
            "False\n"
          ]
        }
      ]
    },
    {
      "cell_type": "markdown",
      "metadata": {
        "id": "QKUoDDwkveJQ"
      },
      "source": [
        "**Built-in Functions**"
      ]
    },
    {
      "cell_type": "code",
      "metadata": {
        "colab": {
          "base_uri": "https://localhost:8080/",
          "height": 35
        },
        "id": "i3ViGLMavl6t",
        "outputId": "fa8aaf9a-8564-4895-e883-2f1c6bf4412d"
      },
      "source": [
        "bin(5)\n"
      ],
      "execution_count": 21,
      "outputs": [
        {
          "output_type": "execute_result",
          "data": {
            "application/vnd.google.colaboratory.intrinsic+json": {
              "type": "string"
            },
            "text/plain": [
              "'0b101'"
            ]
          },
          "metadata": {},
          "execution_count": 21
        }
      ]
    },
    {
      "cell_type": "code",
      "metadata": {
        "colab": {
          "base_uri": "https://localhost:8080/"
        },
        "id": "mFGwdGmAvuZp",
        "outputId": "16f503ba-072b-41d9-85ef-12949747daa3"
      },
      "source": [
        "int(0b101)"
      ],
      "execution_count": 22,
      "outputs": [
        {
          "output_type": "execute_result",
          "data": {
            "text/plain": [
              "5"
            ]
          },
          "metadata": {},
          "execution_count": 22
        }
      ]
    },
    {
      "cell_type": "markdown",
      "metadata": {
        "id": "kF2ZrQuwwCLu"
      },
      "source": [
        "# II. Strings Data Type"
      ]
    },
    {
      "cell_type": "code",
      "metadata": {
        "colab": {
          "base_uri": "https://localhost:8080/",
          "height": 35
        },
        "id": "8cQ-ldrvwLvP",
        "outputId": "1f394db8-dd2f-45f1-a08c-80cf74e17da3"
      },
      "source": [
        "str3 = 'allows embedded \"double\" quotes'\n",
        "str3"
      ],
      "execution_count": 24,
      "outputs": [
        {
          "output_type": "execute_result",
          "data": {
            "application/vnd.google.colaboratory.intrinsic+json": {
              "type": "string"
            },
            "text/plain": [
              "'allows embedded \"double\" quotes'"
            ]
          },
          "metadata": {},
          "execution_count": 24
        }
      ]
    },
    {
      "cell_type": "markdown",
      "metadata": {
        "id": "GSpn4R5Bwktg"
      },
      "source": [
        "**Operation on String**"
      ]
    },
    {
      "cell_type": "code",
      "metadata": {
        "colab": {
          "base_uri": "https://localhost:8080/"
        },
        "id": "7Oef0AdkwnZV",
        "outputId": "443d2aac-79dc-4add-9110-d37f7bb940b1"
      },
      "source": [
        "var1 = 'Hello Taiwan!'\n",
        "print(\"varr1 [1]:\", var1 [1])"
      ],
      "execution_count": 25,
      "outputs": [
        {
          "output_type": "stream",
          "name": "stdout",
          "text": [
            "varr1 [1]: e\n"
          ]
        }
      ]
    },
    {
      "cell_type": "markdown",
      "metadata": {
        "id": "LOeF8k3lxJoW"
      },
      "source": [
        "**Slice Operation**"
      ]
    },
    {
      "cell_type": "code",
      "metadata": {
        "colab": {
          "base_uri": "https://localhost:8080/"
        },
        "id": "TrgxWNPRxMR4",
        "outputId": "0022c903-17c9-49e4-8bae-8a21370aeca1"
      },
      "source": [
        "x = \"How are you, Lady Paula?\"\n",
        "print (x [4:7])"
      ],
      "execution_count": 31,
      "outputs": [
        {
          "output_type": "stream",
          "name": "stdout",
          "text": [
            "are\n"
          ]
        }
      ]
    },
    {
      "cell_type": "code",
      "metadata": {
        "colab": {
          "base_uri": "https://localhost:8080/"
        },
        "id": "6y3JKt6Uxnbk",
        "outputId": "8b0dbaa4-15b3-484f-e006-b8023000a0b9"
      },
      "source": [
        "x = \"How are you, Lady Paula?\"\n",
        "print ( x [:11])"
      ],
      "execution_count": 34,
      "outputs": [
        {
          "output_type": "stream",
          "name": "stdout",
          "text": [
            "How are you\n"
          ]
        }
      ]
    },
    {
      "cell_type": "code",
      "metadata": {
        "colab": {
          "base_uri": "https://localhost:8080/"
        },
        "id": "X4WdrZwMyOKO",
        "outputId": "0fb12200-0e8e-41ef-b9ea-822e880ec049"
      },
      "source": [
        "x = \" How are you, Lady Paula?\"\n",
        "print ( x [-8:-2] )"
      ],
      "execution_count": 42,
      "outputs": [
        {
          "output_type": "stream",
          "name": "stdout",
          "text": [
            "y Paul\n"
          ]
        }
      ]
    },
    {
      "cell_type": "markdown",
      "metadata": {
        "id": "N97XuYAhy5Sd"
      },
      "source": [
        "**Python Capitalize Method**"
      ]
    },
    {
      "cell_type": "code",
      "metadata": {
        "colab": {
          "base_uri": "https://localhost:8080/"
        },
        "id": "giXsbAZzy-ji",
        "outputId": "99ae03d0-3237-4a68-9433-49901d6c7b5d"
      },
      "source": [
        "city = \"Manila\"\n",
        "x = city.capitalize()\n",
        "print (x)"
      ],
      "execution_count": 45,
      "outputs": [
        {
          "output_type": "stream",
          "name": "stdout",
          "text": [
            "Manila\n"
          ]
        }
      ]
    },
    {
      "cell_type": "markdown",
      "metadata": {
        "id": "6WDpt9L4zXE1"
      },
      "source": [
        "**Python Join Method**"
      ]
    },
    {
      "cell_type": "code",
      "metadata": {
        "colab": {
          "base_uri": "https://localhost:8080/"
        },
        "id": "acQ8QEyBzbbH",
        "outputId": "5692cbb3-df01-448e-f0d9-fb281cdded98"
      },
      "source": [
        "me = (\"Lady\", \"Paula\", \"Lising\")\n",
        "x = \" \".join (me)\n",
        "print (x)"
      ],
      "execution_count": 49,
      "outputs": [
        {
          "output_type": "stream",
          "name": "stdout",
          "text": [
            "Lady Paula Lising\n"
          ]
        }
      ]
    },
    {
      "cell_type": "markdown",
      "metadata": {
        "id": "nE6n-0Mz0IQp"
      },
      "source": [
        "**Python Ljust Method**"
      ]
    },
    {
      "cell_type": "code",
      "metadata": {
        "colab": {
          "base_uri": "https://localhost:8080/"
        },
        "id": "MYKVI7vR0OE1",
        "outputId": "161c636f-c6ea-4fbd-bf50-414d38058d01"
      },
      "source": [
        "LadyPaula = \"I\"\n",
        "x = LadyPaula.ljust(1)\n",
        "print (x, \"love to sing and dance\")"
      ],
      "execution_count": 52,
      "outputs": [
        {
          "output_type": "stream",
          "name": "stdout",
          "text": [
            "I love to sing and dance\n"
          ]
        }
      ]
    },
    {
      "cell_type": "markdown",
      "metadata": {
        "id": "PobyIZzS1OuJ"
      },
      "source": [
        "**Python Lstrip Method**"
      ]
    },
    {
      "cell_type": "code",
      "metadata": {
        "colab": {
          "base_uri": "https://localhost:8080/"
        },
        "id": "qVHyiIRP1Tcw",
        "outputId": "ac35e732-be7d-4c6f-8892-87eeb1ee046a"
      },
      "source": [
        "color = \"violet\"\n",
        "x = color.lstrip()\n",
        "print(\"i love anything that is\", x, \"because it's my favorite color\")"
      ],
      "execution_count": 53,
      "outputs": [
        {
          "output_type": "stream",
          "name": "stdout",
          "text": [
            "i love anything that is violet because it's my favorite color\n"
          ]
        }
      ]
    },
    {
      "cell_type": "markdown",
      "metadata": {
        "id": "Hl9AAh_k2BP-"
      },
      "source": [
        "# III. List Data Type"
      ]
    },
    {
      "cell_type": "code",
      "metadata": {
        "colab": {
          "base_uri": "https://localhost:8080/"
        },
        "id": "OUlqCOre2KTv",
        "outputId": "1d72e09f-3cb1-4c8f-f9ed-d3d4918de6cd"
      },
      "source": [
        "list1 = [20, 23, 25, 13]\n",
        "list1[3]"
      ],
      "execution_count": 54,
      "outputs": [
        {
          "output_type": "execute_result",
          "data": {
            "text/plain": [
              "13"
            ]
          },
          "metadata": {},
          "execution_count": 54
        }
      ]
    },
    {
      "cell_type": "markdown",
      "metadata": {
        "id": "BSo4MC-r2pUg"
      },
      "source": [
        "**Slice Operator**"
      ]
    },
    {
      "cell_type": "code",
      "metadata": {
        "colab": {
          "base_uri": "https://localhost:8080/"
        },
        "id": "B80K2Efy2rwv",
        "outputId": "56216106-1aee-433e-9383-e40a41772778"
      },
      "source": [
        "list1[1:3]"
      ],
      "execution_count": 55,
      "outputs": [
        {
          "output_type": "execute_result",
          "data": {
            "text/plain": [
              "[23, 25]"
            ]
          },
          "metadata": {},
          "execution_count": 55
        }
      ]
    },
    {
      "cell_type": "markdown",
      "metadata": {
        "id": "Lw4W03F-3Ll7"
      },
      "source": [
        "**Built-in Functions**"
      ]
    },
    {
      "cell_type": "code",
      "metadata": {
        "colab": {
          "base_uri": "https://localhost:8080/"
        },
        "id": "WDrlYGq63o3R",
        "outputId": "d7fc51ec-1fc3-454b-8efc-0b14378630be"
      },
      "source": [
        "len(list1)"
      ],
      "execution_count": 56,
      "outputs": [
        {
          "output_type": "execute_result",
          "data": {
            "text/plain": [
              "4"
            ]
          },
          "metadata": {},
          "execution_count": 56
        }
      ]
    },
    {
      "cell_type": "code",
      "metadata": {
        "colab": {
          "base_uri": "https://localhost:8080/"
        },
        "id": "qkCJ6Ufd4FLR",
        "outputId": "91f1bb54-abf4-47dd-9ae9-ef6adca2c210"
      },
      "source": [
        "max(list1)"
      ],
      "execution_count": 57,
      "outputs": [
        {
          "output_type": "execute_result",
          "data": {
            "text/plain": [
              "25"
            ]
          },
          "metadata": {},
          "execution_count": 57
        }
      ]
    },
    {
      "cell_type": "code",
      "metadata": {
        "colab": {
          "base_uri": "https://localhost:8080/"
        },
        "id": "1Disi1Aq4Pdq",
        "outputId": "9ee4978c-614f-4836-f0c0-a78776eb02b1"
      },
      "source": [
        "min(list1)"
      ],
      "execution_count": 58,
      "outputs": [
        {
          "output_type": "execute_result",
          "data": {
            "text/plain": [
              "13"
            ]
          },
          "metadata": {},
          "execution_count": 58
        }
      ]
    },
    {
      "cell_type": "markdown",
      "metadata": {
        "id": "2Qim0DaE4lo9"
      },
      "source": [
        "# IV. Dict Data Type"
      ]
    },
    {
      "cell_type": "code",
      "metadata": {
        "colab": {
          "base_uri": "https://localhost:8080/"
        },
        "id": "O2Y-njbz4wDk",
        "outputId": "76c43563-0029-4242-cb52-96d538403b3d"
      },
      "source": [
        "dict = {'Name' : 'Lady Paula' , 'Age' : 22}\n",
        "print (dict)"
      ],
      "execution_count": 59,
      "outputs": [
        {
          "output_type": "stream",
          "name": "stdout",
          "text": [
            "{'Name': 'Lady Paula', 'Age': 22}\n"
          ]
        }
      ]
    },
    {
      "cell_type": "code",
      "metadata": {
        "colab": {
          "base_uri": "https://localhost:8080/"
        },
        "id": "jw2nCU2s5T3P",
        "outputId": "d11ca212-7a85-4fa4-8a8e-cf6f8fcfd13e"
      },
      "source": [
        "dict = {'Name' : 'Lady Paula' , 'Age' : 22}\n",
        "print (\"dict['Age']:\" , dict['Age'])"
      ],
      "execution_count": 64,
      "outputs": [
        {
          "output_type": "stream",
          "name": "stdout",
          "text": [
            "dict['Age']: 22\n"
          ]
        }
      ]
    }
  ]
}