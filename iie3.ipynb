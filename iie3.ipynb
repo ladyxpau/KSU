{
  "nbformat": 4,
  "nbformat_minor": 0,
  "metadata": {
    "colab": {
      "name": "Untitled1.ipynb",
      "provenance": [],
      "authorship_tag": "ABX9TyNT3m+Exulpj8DS0DKDqE86",
      "include_colab_link": true
    },
    "kernelspec": {
      "name": "python3",
      "display_name": "Python 3"
    },
    "language_info": {
      "name": "python"
    }
  },
  "cells": [
    {
      "cell_type": "markdown",
      "metadata": {
        "id": "view-in-github",
        "colab_type": "text"
      },
      "source": [
        "<a href=\"https://colab.research.google.com/github/ladyxpau/KSU/blob/Intro-to-Information-Eng'g/iie3.ipynb\" target=\"_parent\"><img src=\"https://colab.research.google.com/assets/colab-badge.svg\" alt=\"Open In Colab\"/></a>"
      ]
    },
    {
      "cell_type": "code",
      "metadata": {
        "colab": {
          "base_uri": "https://localhost:8080/"
        },
        "id": "XW5AqeWp2KEc",
        "outputId": "9d7ceaf5-40df-403f-cb8a-6c63f43e83be"
      },
      "source": [
        "def sum (i1, i2, i3):\n",
        "  result = 0\n",
        "  for i in range (i1, i2, i3):\n",
        "      result += i\n",
        "      return result\n",
        "\n",
        "def main ():\n",
        "  print(\"sum from 5 to 30 is\", sum (5,30,1))\n",
        "  print(\"sum from 22 to 50 is\", sum (3,50,2))\n",
        "  print(\"sum from 10 to 40 is\", sum (7,40,3))\n",
        "\n",
        "main () # call the main function\n",
        "\n",
        " "
      ],
      "execution_count": null,
      "outputs": [
        {
          "output_type": "stream",
          "name": "stdout",
          "text": [
            "sum from 5 to 30 is 5\n",
            "sum from 22 to 50 is 3\n",
            "sum from 10 to 40 is 7\n"
          ]
        }
      ]
    },
    {
      "cell_type": "code",
      "metadata": {
        "colab": {
          "base_uri": "https://localhost:8080/"
        },
        "id": "BgrLlGrj6Gl6",
        "outputId": "03c8f732-d361-4f15-c269-452c6c6f0097"
      },
      "source": [
        "def swap (k,n):\n",
        "  k,n = n,k\n",
        "  return (k,n)\n",
        "\n",
        "if __name__ == '__main__':\n",
        "  k=16\n",
        "  n=26\n",
        "  print('k, = %d,n = %d' % (k,n))\n",
        "  k,n = swap (k,n)\n",
        "  print('k, = %d,n = %d' % (k,n))\n"
      ],
      "execution_count": null,
      "outputs": [
        {
          "output_type": "stream",
          "name": "stdout",
          "text": [
            "k, = 16,n = 26\n",
            "k, = 26,n = 16\n"
          ]
        }
      ]
    },
    {
      "cell_type": "code",
      "metadata": {
        "id": "Vaq_BIxm7mEd",
        "colab": {
          "base_uri": "https://localhost:8080/"
        },
        "outputId": "548cd81c-9292-48c5-a4ae-c8d446362e65"
      },
      "source": [
        "def sort(number1, number2, number3):\n",
        "  if (number1 < number2) and (number1 < number3):\n",
        "    if number2 < number3:\n",
        "      return number1, number2, number3\n",
        "    else:\n",
        "      return number1, number3, number2\n",
        "  if (number2 < number1) and (number2 < number3):\n",
        "    if number1 < number3:\n",
        "      return number2, number1, number3\n",
        "    else:\n",
        "      return number2, number3, number1\n",
        "  if (number3 < number1) and (number3 < number2):\n",
        "    if number1 < number2:\n",
        "      return number3, number1, number2\n",
        "    else:\n",
        "      return number3, number2, number1\n",
        "\n",
        "num1,num2,num3 = sort(3,31,20)\n",
        "\n",
        "print (\"num1 is\", num1)\n",
        "print (\"num2 is\", num2)\n",
        "print (\"num3 is\", num3)\n",
        "  \n",
        "\n",
        "\n",
        " "
      ],
      "execution_count": 14,
      "outputs": [
        {
          "output_type": "stream",
          "name": "stdout",
          "text": [
            "num1 is 3\n",
            "num2 is 20\n",
            "num3 is 31\n"
          ]
        }
      ]
    },
    {
      "cell_type": "code",
      "metadata": {
        "id": "nXyE2gIZ_-P9"
      },
      "source": [
        "#!/usr/bin/phyton\n",
        "# -+- coding: UTF-8 -*-\n",
        "\n",
        "def printArea(width = 21, height = 26):\n",
        " area = width * height\n",
        " print(\"width:\", width, \"\\theight:\", height, \"\\tarea:\", area)"
      ],
      "execution_count": 40,
      "outputs": []
    },
    {
      "cell_type": "code",
      "metadata": {
        "colab": {
          "base_uri": "https://localhost:8080/"
        },
        "id": "mpcwD9ThC-hO",
        "outputId": "444a45bf-168f-417d-bb80-44488f49891c"
      },
      "source": [
        "printArea()"
      ],
      "execution_count": 41,
      "outputs": [
        {
          "output_type": "stream",
          "name": "stdout",
          "text": [
            "width: 21 \theight: 26 \tarea: 546\n"
          ]
        }
      ]
    },
    {
      "cell_type": "code",
      "metadata": {
        "colab": {
          "base_uri": "https://localhost:8080/"
        },
        "id": "_FJURZuIE6qe",
        "outputId": "be37dc45-6794-479d-e91d-39082eda1bbb"
      },
      "source": [
        "printArea(width = 11 , height = 20)"
      ],
      "execution_count": 42,
      "outputs": [
        {
          "output_type": "stream",
          "name": "stdout",
          "text": [
            "width: 11 \theight: 20 \tarea: 220\n"
          ]
        }
      ]
    },
    {
      "cell_type": "code",
      "metadata": {
        "colab": {
          "base_uri": "https://localhost:8080/"
        },
        "id": "eqFEGKSFG1S_",
        "outputId": "a562eb82-454f-4ea4-e0d8-b40c383ace97"
      },
      "source": [
        "printArea(height = 20, width = 11)"
      ],
      "execution_count": 43,
      "outputs": [
        {
          "output_type": "stream",
          "name": "stdout",
          "text": [
            "width: 11 \theight: 20 \tarea: 220\n"
          ]
        }
      ]
    },
    {
      "cell_type": "code",
      "metadata": {
        "colab": {
          "base_uri": "https://localhost:8080/"
        },
        "id": "krcnLBFXHLX8",
        "outputId": "b695699d-42ef-471d-a3e1-e36b89cd0c9a"
      },
      "source": [
        "printArea(11,20)"
      ],
      "execution_count": 46,
      "outputs": [
        {
          "output_type": "stream",
          "name": "stdout",
          "text": [
            "width: 11 \theight: 20 \tarea: 220\n"
          ]
        }
      ]
    },
    {
      "cell_type": "code",
      "metadata": {
        "colab": {
          "base_uri": "https://localhost:8080/"
        },
        "id": "X8OuTUUXHUPz",
        "outputId": "6806e907-0092-4366-e8cc-3bc7a479d593"
      },
      "source": [
        "printArea(20,11)"
      ],
      "execution_count": 45,
      "outputs": [
        {
          "output_type": "stream",
          "name": "stdout",
          "text": [
            "width: 20 \theight: 11 \tarea: 220\n"
          ]
        }
      ]
    },
    {
      "cell_type": "code",
      "metadata": {
        "colab": {
          "base_uri": "https://localhost:8080/"
        },
        "id": "1CzJjvZ6H_HO",
        "outputId": "10fb76ec-d5af-4020-e4af-5182db37c15e"
      },
      "source": [
        "f1 = lambda x, y, z : x+4*y+5*z\n",
        "print(f1(3,31,20))"
      ],
      "execution_count": 47,
      "outputs": [
        {
          "output_type": "stream",
          "name": "stdout",
          "text": [
            "227\n"
          ]
        }
      ]
    },
    {
      "cell_type": "code",
      "metadata": {
        "colab": {
          "base_uri": "https://localhost:8080/"
        },
        "id": "QHoQXXygIqw_",
        "outputId": "3af1846f-114c-490d-db40-3828cd7461e0"
      },
      "source": [
        "def myfunc (m):\n",
        "  return m*m\n",
        "\n",
        "my_list = [9, 25, 2, 11, 31]\n",
        "\n",
        "print(list(map(lambda x: myfunc (x), my_list)))"
      ],
      "execution_count": 48,
      "outputs": [
        {
          "output_type": "stream",
          "name": "stdout",
          "text": [
            "[81, 625, 4, 121, 961]\n"
          ]
        }
      ]
    }
  ]
}